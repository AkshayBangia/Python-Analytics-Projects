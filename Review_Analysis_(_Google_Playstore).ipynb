{
  "cells": [
    {
      "cell_type": "markdown",
      "metadata": {
        "id": "iW27iTilFCPx"
      },
      "source": [
        "# Sentiment Analysis on User Review on RBC app on Google playstore"
      ]
    },
    {
      "cell_type": "markdown",
      "metadata": {
        "id": "7Eh68n4rFHwT"
      },
      "source": [
        "The code below downloads a lexicon and saves it in a Python dictionary called `lexicon`."
      ]
    },
    {
      "cell_type": "code",
      "execution_count": null,
      "metadata": {
        "id": "XwoQOYOT9lhr"
      },
      "outputs": [],
      "source": [
        "import urllib.request, json\n",
        "with urllib.request.urlopen(\"https://storage.googleapis.com/wd13/lexicon.txt\") as url:\n",
        "  lexicon_file = url.read().decode()\n",
        "lexicon = {}\n",
        "for line in lexicon_file.split('\\n'):\n",
        "  split_line = line.split('\\t')\n",
        "  token = split_line[0]\n",
        "  score = float(split_line[1])\n",
        "  lexicon[token] = score"
      ]
    },
    {
      "cell_type": "markdown",
      "metadata": {
        "id": "8P0hWnG3FQOa"
      },
      "source": [
        "The `lexicon` dictionary contains entries for approximately 7500 tokens that have either positive or negative sentiment. Each token is a key and the value is the sentiment score. Positive scores imply positive sentiment, negative scores imply negative sentiment. The further from zero the score, the more extreme the sentiment."
      ]
    },
    {
      "cell_type": "markdown",
      "metadata": {
        "id": "q1JaGayEFuPB"
      },
      "source": [
        "\"good\" has a score of 1.9."
      ]
    },
    {
      "cell_type": "code",
      "execution_count": null,
      "metadata": {
        "colab": {
          "base_uri": "https://localhost:8080/"
        },
        "id": "Xj0ErdW2FVxS",
        "outputId": "6efd5224-991d-4025-c2da-d77f3b31cfc6"
      },
      "outputs": [
        {
          "output_type": "execute_result",
          "data": {
            "text/plain": [
              "1.9"
            ]
          },
          "metadata": {},
          "execution_count": 2
        }
      ],
      "source": [
        "lexicon['good']"
      ]
    },
    {
      "cell_type": "markdown",
      "metadata": {
        "id": "JmRNwK-DFxEH"
      },
      "source": [
        "\"great\" has a score of 3.1."
      ]
    },
    {
      "cell_type": "code",
      "execution_count": null,
      "metadata": {
        "colab": {
          "base_uri": "https://localhost:8080/"
        },
        "id": "z9DTk25MFxLt",
        "outputId": "2bd8cdeb-8e7d-44cf-9603-fa94d38dac0b"
      },
      "outputs": [
        {
          "output_type": "execute_result",
          "data": {
            "text/plain": [
              "3.1"
            ]
          },
          "metadata": {},
          "execution_count": 3
        }
      ],
      "source": [
        "lexicon['great']"
      ]
    },
    {
      "cell_type": "markdown",
      "metadata": {
        "id": "u7FiQzUkFxbB"
      },
      "source": [
        "\"bad\" has a score of -2.5."
      ]
    },
    {
      "cell_type": "code",
      "execution_count": null,
      "metadata": {
        "colab": {
          "base_uri": "https://localhost:8080/"
        },
        "id": "JslS0clsFxhI",
        "outputId": "c8ce0bbb-a3c8-4ac6-8671-0ff5a3417c78"
      },
      "outputs": [
        {
          "output_type": "execute_result",
          "data": {
            "text/plain": [
              "-2.5"
            ]
          },
          "metadata": {},
          "execution_count": 4
        }
      ],
      "source": [
        "lexicon['bad']"
      ]
    },
    {
      "cell_type": "markdown",
      "metadata": {
        "id": "eWotz3a_MoP8"
      },
      "source": [
        "This function that takes a string and returns a sentiment score based on the lexicon downloaded above."
      ]
    },
    {
      "cell_type": "code",
      "execution_count": null,
      "metadata": {
        "id": "KOSnUBrJMnak",
        "colab": {
          "base_uri": "https://localhost:8080/"
        },
        "outputId": "fc48bc19-6881-41cb-c1eb-b3775fa3cbe6"
      },
      "outputs": [
        {
          "output_type": "stream",
          "name": "stdout",
          "text": [
            "1.9\n"
          ]
        }
      ],
      "source": [
        "# put your answer here\n",
        "import re\n",
        "\n",
        "def sentiment_score(doc):\n",
        "  tokens = re.findall('[A-Za-z0-9]+',doc)\n",
        "  for i in range(len(tokens)):\n",
        "    tokens[i] = tokens[i].lower()\n",
        "    score=0\n",
        "    for token in tokens:\n",
        "      if token in lexicon:\n",
        "        score += lexicon[token]\n",
        "      return score\n",
        "\n",
        "print(sentiment_score('good idea'))"
      ]
    },
    {
      "cell_type": "markdown",
      "metadata": {
        "id": "SiJGNTJOI6o_"
      },
      "source": [
        "Installing the google-play-scraper library."
      ]
    },
    {
      "cell_type": "code",
      "execution_count": null,
      "metadata": {
        "id": "Czvp6sv5JK_e",
        "colab": {
          "base_uri": "https://localhost:8080/"
        },
        "outputId": "742a4fbd-05b5-454a-85d2-73bfd8233973"
      },
      "outputs": [
        {
          "output_type": "stream",
          "name": "stdout",
          "text": [
            "Collecting google_play_scraper\n",
            "  Downloading google_play_scraper-1.2.6-py3-none-any.whl (28 kB)\n",
            "Installing collected packages: google_play_scraper\n",
            "Successfully installed google_play_scraper-1.2.6\n"
          ]
        }
      ],
      "source": [
        "!pip install google_play_scraper"
      ]
    },
    {
      "cell_type": "markdown",
      "metadata": {
        "id": "YYO1QcDPJMli"
      },
      "source": [
        "Importing the google-play-scraper library."
      ]
    },
    {
      "cell_type": "code",
      "execution_count": null,
      "metadata": {
        "id": "IwhkVCSoKphA"
      },
      "outputs": [],
      "source": [
        "import google_play_scraper"
      ]
    },
    {
      "cell_type": "markdown",
      "metadata": {
        "id": "Ou_-vk-rKrrD"
      },
      "source": [
        " Variable `appid` stores app id for RBC app on the Google Play Store."
      ]
    },
    {
      "cell_type": "code",
      "execution_count": null,
      "metadata": {
        "id": "guSv6RRjLEYC"
      },
      "outputs": [],
      "source": [
        "appid = 'com.rbc.mobile.android'"
      ]
    },
    {
      "cell_type": "markdown",
      "metadata": {
        "id": "UcAw-thbLG9o"
      },
      "source": [
        "Downloading all available reviews and store them in the variable `rbc_reviews`."
      ]
    },
    {
      "cell_type": "code",
      "execution_count": null,
      "metadata": {
        "id": "OyNdfYVeK2Z0"
      },
      "outputs": [],
      "source": [
        "rbc_reviews = google_play_scraper.reviews_all(\n",
        "    appid,\n",
        "    lang ='en',\n",
        "    country ='ca'\n",
        ")"
      ]
    },
    {
      "cell_type": "markdown",
      "metadata": {
        "id": "ryQmRpR1M2_e"
      },
      "source": [
        "Adding a `sentiment_score` to each review using the function defined above."
      ]
    },
    {
      "cell_type": "code",
      "execution_count": null,
      "metadata": {
        "id": "ubfuT16DNEwx"
      },
      "outputs": [],
      "source": [
        "for review in rbc_reviews:\n",
        "  review_text = review['content']\n",
        "  if review_text:\n",
        "    score = sentiment_score(review_text)\n",
        "  else:\n",
        "    score = 0\n",
        "  review['sentiment_score'] = score"
      ]
    },
    {
      "cell_type": "markdown",
      "metadata": {
        "id": "C9AASCLIVOQ7"
      },
      "source": [
        "Adding a `sentiment_flag` variable to each review. It should be equal to 'pos' if the `sentiment_score` is greater than 0, 'neg' if the `sentiment_score` is less than 0, and 'neu' if the `sentiment_score` is equal to 0."
      ]
    },
    {
      "cell_type": "code",
      "execution_count": null,
      "metadata": {
        "id": "yCNy1qfmVOQ7"
      },
      "outputs": [],
      "source": [
        "for review in rbc_reviews:\n",
        "  if review['sentiment_score'] >0:\n",
        "    review['sentiment_flag'] ='pos'\n",
        "  elif review['sentiment_score'] <0:\n",
        "    review['sentiment_flag'] = 'neg'\n",
        "  else:\n",
        "    review['sentiment_flag'] = 'neu'"
      ]
    },
    {
      "cell_type": "markdown",
      "metadata": {
        "id": "0-V4FmLXZ5js"
      },
      "source": [
        "Adding an year variable that indicates what `year` the review is from."
      ]
    },
    {
      "cell_type": "code",
      "execution_count": null,
      "metadata": {
        "id": "jrCcOEC2Z5uI"
      },
      "outputs": [],
      "source": [
        "for review in rbc_reviews:\n",
        "  review['year'] = review['at'].year"
      ]
    },
    {
      "cell_type": "markdown",
      "metadata": {
        "id": "MGuGXjGINT_Z"
      },
      "source": [
        " `rbc_reviews` to dataframe"
      ]
    },
    {
      "cell_type": "code",
      "execution_count": null,
      "metadata": {
        "id": "-zqRVMEpRIHo",
        "colab": {
          "base_uri": "https://localhost:8080/",
          "height": 1189
        },
        "outputId": "b2796778-f809-4fc6-c951-9a73a7c4d6b5"
      },
      "outputs": [
        {
          "output_type": "execute_result",
          "data": {
            "text/plain": [
              "                                 reviewId           userName  \\\n",
              "0    82ce7fef-0ddd-444b-8fe1-363a66fe8552      Ruth Thompson   \n",
              "1    1462c7a9-31b9-44f5-a665-75b225539e79      A Google user   \n",
              "2    7a0f42e7-beca-4b2b-aaba-8c55f4cf790e    Daniel Boudreau   \n",
              "3    6b025703-5246-4a96-a785-168d461b52dc       Remi Matlosz   \n",
              "4    9d031668-3fb9-496f-94a5-689328f5ca01          Verö Neek   \n",
              "..                                    ...                ...   \n",
              "592  06f67cef-251b-4909-a612-5ade81f9acc0       Mike Jackson   \n",
              "593  54084090-8b74-4808-8950-4772fc0f703d       Maria Fellah   \n",
              "594  d66e451a-35b2-4513-8c83-89882912584f     Tammy McArthur   \n",
              "595  abea9976-612b-4d00-9e83-27909f4f9b37             A Fish   \n",
              "596  a4bf6dfe-73e1-4221-9506-2aad19fd6e4f  shawn c macdonald   \n",
              "\n",
              "                                             userImage  \\\n",
              "0    https://play-lh.googleusercontent.com/a-/ALV-U...   \n",
              "1    https://play-lh.googleusercontent.com/EGemoI2N...   \n",
              "2    https://play-lh.googleusercontent.com/a-/ALV-U...   \n",
              "3    https://play-lh.googleusercontent.com/a/ACg8oc...   \n",
              "4    https://play-lh.googleusercontent.com/a-/ALV-U...   \n",
              "..                                                 ...   \n",
              "592  https://play-lh.googleusercontent.com/a/ACg8oc...   \n",
              "593  https://play-lh.googleusercontent.com/a/ACg8oc...   \n",
              "594  https://play-lh.googleusercontent.com/a/ACg8oc...   \n",
              "595  https://play-lh.googleusercontent.com/a-/ALV-U...   \n",
              "596  https://play-lh.googleusercontent.com/a-/ALV-U...   \n",
              "\n",
              "                                               content  score  thumbsUpCount  \\\n",
              "0                                  Use it all the time      5              0   \n",
              "1                           errors not working as said      5              0   \n",
              "2    App works good but still have room for improve...      3              0   \n",
              "3    They will refuse to release funds on time for ...      1              0   \n",
              "4    Edit June 2024: seems that every time I make a...      2              2   \n",
              "..                                                 ...    ...            ...   \n",
              "592                                       Your app sux      1              1   \n",
              "593                             Very easy and friendly      5              0   \n",
              "594  Love RBC been with them from my first job here...      5              0   \n",
              "595  The systems are FAR too slow to update. When y...      2              0   \n",
              "596                                              Great      5              0   \n",
              "\n",
              "    reviewCreatedVersion                  at  \\\n",
              "0                   4.40 2024-06-02 21:15:23   \n",
              "1                   4.41 2024-06-02 06:04:42   \n",
              "2                   4.41 2024-06-01 20:41:57   \n",
              "3                   4.41 2024-06-01 20:14:23   \n",
              "4                   4.41 2024-06-01 16:54:30   \n",
              "..                   ...                 ...   \n",
              "592                 4.34 2023-11-19 18:13:37   \n",
              "593                 4.32 2023-11-18 02:20:42   \n",
              "594               4.24.1 2023-11-17 12:26:19   \n",
              "595                 4.34 2023-11-16 22:23:45   \n",
              "596                 4.31 2023-11-16 19:57:01   \n",
              "\n",
              "                                          replyContent           repliedAt  \\\n",
              "0                                                 None                 NaT   \n",
              "1                                                 None                 NaT   \n",
              "2                                                 None                 NaT   \n",
              "3                                                 None                 NaT   \n",
              "4                                                 None                 NaT   \n",
              "..                                                 ...                 ...   \n",
              "592                                               None                 NaT   \n",
              "593             Thank for for the great review! -- Ray 2023-11-20 22:10:17   \n",
              "594          Thank you for the awesome review ! -- Ray 2023-11-20 22:09:24   \n",
              "595  Thank you for your time and feedback. You will... 2023-11-20 22:07:37   \n",
              "596             Thank you for the great review! -- Ray 2023-11-16 22:17:16   \n",
              "\n",
              "    appVersion  sentiment_score sentiment_flag  year  \n",
              "0         4.40              0.0            neu  2024  \n",
              "1         4.41             -1.4            neg  2024  \n",
              "2         4.41              0.0            neu  2024  \n",
              "3         4.41              0.0            neu  2024  \n",
              "4         4.41              0.0            neu  2024  \n",
              "..         ...              ...            ...   ...  \n",
              "592       4.34              0.0            neu  2023  \n",
              "593       4.32              0.0            neu  2023  \n",
              "594     4.24.1              3.2            pos  2023  \n",
              "595       4.34              0.0            neu  2023  \n",
              "596       4.31              3.1            pos  2023  \n",
              "\n",
              "[597 rows x 14 columns]"
            ],
            "text/html": [
              "\n",
              "  <div id=\"df-a7ff1d1d-ece5-45e6-9db1-370fb8f54e4a\" class=\"colab-df-container\">\n",
              "    <div>\n",
              "<style scoped>\n",
              "    .dataframe tbody tr th:only-of-type {\n",
              "        vertical-align: middle;\n",
              "    }\n",
              "\n",
              "    .dataframe tbody tr th {\n",
              "        vertical-align: top;\n",
              "    }\n",
              "\n",
              "    .dataframe thead th {\n",
              "        text-align: right;\n",
              "    }\n",
              "</style>\n",
              "<table border=\"1\" class=\"dataframe\">\n",
              "  <thead>\n",
              "    <tr style=\"text-align: right;\">\n",
              "      <th></th>\n",
              "      <th>reviewId</th>\n",
              "      <th>userName</th>\n",
              "      <th>userImage</th>\n",
              "      <th>content</th>\n",
              "      <th>score</th>\n",
              "      <th>thumbsUpCount</th>\n",
              "      <th>reviewCreatedVersion</th>\n",
              "      <th>at</th>\n",
              "      <th>replyContent</th>\n",
              "      <th>repliedAt</th>\n",
              "      <th>appVersion</th>\n",
              "      <th>sentiment_score</th>\n",
              "      <th>sentiment_flag</th>\n",
              "      <th>year</th>\n",
              "    </tr>\n",
              "  </thead>\n",
              "  <tbody>\n",
              "    <tr>\n",
              "      <th>0</th>\n",
              "      <td>82ce7fef-0ddd-444b-8fe1-363a66fe8552</td>\n",
              "      <td>Ruth Thompson</td>\n",
              "      <td>https://play-lh.googleusercontent.com/a-/ALV-U...</td>\n",
              "      <td>Use it all the time</td>\n",
              "      <td>5</td>\n",
              "      <td>0</td>\n",
              "      <td>4.40</td>\n",
              "      <td>2024-06-02 21:15:23</td>\n",
              "      <td>None</td>\n",
              "      <td>NaT</td>\n",
              "      <td>4.40</td>\n",
              "      <td>0.0</td>\n",
              "      <td>neu</td>\n",
              "      <td>2024</td>\n",
              "    </tr>\n",
              "    <tr>\n",
              "      <th>1</th>\n",
              "      <td>1462c7a9-31b9-44f5-a665-75b225539e79</td>\n",
              "      <td>A Google user</td>\n",
              "      <td>https://play-lh.googleusercontent.com/EGemoI2N...</td>\n",
              "      <td>errors not working as said</td>\n",
              "      <td>5</td>\n",
              "      <td>0</td>\n",
              "      <td>4.41</td>\n",
              "      <td>2024-06-02 06:04:42</td>\n",
              "      <td>None</td>\n",
              "      <td>NaT</td>\n",
              "      <td>4.41</td>\n",
              "      <td>-1.4</td>\n",
              "      <td>neg</td>\n",
              "      <td>2024</td>\n",
              "    </tr>\n",
              "    <tr>\n",
              "      <th>2</th>\n",
              "      <td>7a0f42e7-beca-4b2b-aaba-8c55f4cf790e</td>\n",
              "      <td>Daniel Boudreau</td>\n",
              "      <td>https://play-lh.googleusercontent.com/a-/ALV-U...</td>\n",
              "      <td>App works good but still have room for improve...</td>\n",
              "      <td>3</td>\n",
              "      <td>0</td>\n",
              "      <td>4.41</td>\n",
              "      <td>2024-06-01 20:41:57</td>\n",
              "      <td>None</td>\n",
              "      <td>NaT</td>\n",
              "      <td>4.41</td>\n",
              "      <td>0.0</td>\n",
              "      <td>neu</td>\n",
              "      <td>2024</td>\n",
              "    </tr>\n",
              "    <tr>\n",
              "      <th>3</th>\n",
              "      <td>6b025703-5246-4a96-a785-168d461b52dc</td>\n",
              "      <td>Remi Matlosz</td>\n",
              "      <td>https://play-lh.googleusercontent.com/a/ACg8oc...</td>\n",
              "      <td>They will refuse to release funds on time for ...</td>\n",
              "      <td>1</td>\n",
              "      <td>0</td>\n",
              "      <td>4.41</td>\n",
              "      <td>2024-06-01 20:14:23</td>\n",
              "      <td>None</td>\n",
              "      <td>NaT</td>\n",
              "      <td>4.41</td>\n",
              "      <td>0.0</td>\n",
              "      <td>neu</td>\n",
              "      <td>2024</td>\n",
              "    </tr>\n",
              "    <tr>\n",
              "      <th>4</th>\n",
              "      <td>9d031668-3fb9-496f-94a5-689328f5ca01</td>\n",
              "      <td>Verö Neek</td>\n",
              "      <td>https://play-lh.googleusercontent.com/a-/ALV-U...</td>\n",
              "      <td>Edit June 2024: seems that every time I make a...</td>\n",
              "      <td>2</td>\n",
              "      <td>2</td>\n",
              "      <td>4.41</td>\n",
              "      <td>2024-06-01 16:54:30</td>\n",
              "      <td>None</td>\n",
              "      <td>NaT</td>\n",
              "      <td>4.41</td>\n",
              "      <td>0.0</td>\n",
              "      <td>neu</td>\n",
              "      <td>2024</td>\n",
              "    </tr>\n",
              "    <tr>\n",
              "      <th>...</th>\n",
              "      <td>...</td>\n",
              "      <td>...</td>\n",
              "      <td>...</td>\n",
              "      <td>...</td>\n",
              "      <td>...</td>\n",
              "      <td>...</td>\n",
              "      <td>...</td>\n",
              "      <td>...</td>\n",
              "      <td>...</td>\n",
              "      <td>...</td>\n",
              "      <td>...</td>\n",
              "      <td>...</td>\n",
              "      <td>...</td>\n",
              "      <td>...</td>\n",
              "    </tr>\n",
              "    <tr>\n",
              "      <th>592</th>\n",
              "      <td>06f67cef-251b-4909-a612-5ade81f9acc0</td>\n",
              "      <td>Mike Jackson</td>\n",
              "      <td>https://play-lh.googleusercontent.com/a/ACg8oc...</td>\n",
              "      <td>Your app sux</td>\n",
              "      <td>1</td>\n",
              "      <td>1</td>\n",
              "      <td>4.34</td>\n",
              "      <td>2023-11-19 18:13:37</td>\n",
              "      <td>None</td>\n",
              "      <td>NaT</td>\n",
              "      <td>4.34</td>\n",
              "      <td>0.0</td>\n",
              "      <td>neu</td>\n",
              "      <td>2023</td>\n",
              "    </tr>\n",
              "    <tr>\n",
              "      <th>593</th>\n",
              "      <td>54084090-8b74-4808-8950-4772fc0f703d</td>\n",
              "      <td>Maria Fellah</td>\n",
              "      <td>https://play-lh.googleusercontent.com/a/ACg8oc...</td>\n",
              "      <td>Very easy and friendly</td>\n",
              "      <td>5</td>\n",
              "      <td>0</td>\n",
              "      <td>4.32</td>\n",
              "      <td>2023-11-18 02:20:42</td>\n",
              "      <td>Thank for for the great review! -- Ray</td>\n",
              "      <td>2023-11-20 22:10:17</td>\n",
              "      <td>4.32</td>\n",
              "      <td>0.0</td>\n",
              "      <td>neu</td>\n",
              "      <td>2023</td>\n",
              "    </tr>\n",
              "    <tr>\n",
              "      <th>594</th>\n",
              "      <td>d66e451a-35b2-4513-8c83-89882912584f</td>\n",
              "      <td>Tammy McArthur</td>\n",
              "      <td>https://play-lh.googleusercontent.com/a/ACg8oc...</td>\n",
              "      <td>Love RBC been with them from my first job here...</td>\n",
              "      <td>5</td>\n",
              "      <td>0</td>\n",
              "      <td>4.24.1</td>\n",
              "      <td>2023-11-17 12:26:19</td>\n",
              "      <td>Thank you for the awesome review ! -- Ray</td>\n",
              "      <td>2023-11-20 22:09:24</td>\n",
              "      <td>4.24.1</td>\n",
              "      <td>3.2</td>\n",
              "      <td>pos</td>\n",
              "      <td>2023</td>\n",
              "    </tr>\n",
              "    <tr>\n",
              "      <th>595</th>\n",
              "      <td>abea9976-612b-4d00-9e83-27909f4f9b37</td>\n",
              "      <td>A Fish</td>\n",
              "      <td>https://play-lh.googleusercontent.com/a-/ALV-U...</td>\n",
              "      <td>The systems are FAR too slow to update. When y...</td>\n",
              "      <td>2</td>\n",
              "      <td>0</td>\n",
              "      <td>4.34</td>\n",
              "      <td>2023-11-16 22:23:45</td>\n",
              "      <td>Thank you for your time and feedback. You will...</td>\n",
              "      <td>2023-11-20 22:07:37</td>\n",
              "      <td>4.34</td>\n",
              "      <td>0.0</td>\n",
              "      <td>neu</td>\n",
              "      <td>2023</td>\n",
              "    </tr>\n",
              "    <tr>\n",
              "      <th>596</th>\n",
              "      <td>a4bf6dfe-73e1-4221-9506-2aad19fd6e4f</td>\n",
              "      <td>shawn c macdonald</td>\n",
              "      <td>https://play-lh.googleusercontent.com/a-/ALV-U...</td>\n",
              "      <td>Great</td>\n",
              "      <td>5</td>\n",
              "      <td>0</td>\n",
              "      <td>4.31</td>\n",
              "      <td>2023-11-16 19:57:01</td>\n",
              "      <td>Thank you for the great review! -- Ray</td>\n",
              "      <td>2023-11-16 22:17:16</td>\n",
              "      <td>4.31</td>\n",
              "      <td>3.1</td>\n",
              "      <td>pos</td>\n",
              "      <td>2023</td>\n",
              "    </tr>\n",
              "  </tbody>\n",
              "</table>\n",
              "<p>597 rows × 14 columns</p>\n",
              "</div>\n",
              "    <div class=\"colab-df-buttons\">\n",
              "\n",
              "  <div class=\"colab-df-container\">\n",
              "    <button class=\"colab-df-convert\" onclick=\"convertToInteractive('df-a7ff1d1d-ece5-45e6-9db1-370fb8f54e4a')\"\n",
              "            title=\"Convert this dataframe to an interactive table.\"\n",
              "            style=\"display:none;\">\n",
              "\n",
              "  <svg xmlns=\"http://www.w3.org/2000/svg\" height=\"24px\" viewBox=\"0 -960 960 960\">\n",
              "    <path d=\"M120-120v-720h720v720H120Zm60-500h600v-160H180v160Zm220 220h160v-160H400v160Zm0 220h160v-160H400v160ZM180-400h160v-160H180v160Zm440 0h160v-160H620v160ZM180-180h160v-160H180v160Zm440 0h160v-160H620v160Z\"/>\n",
              "  </svg>\n",
              "    </button>\n",
              "\n",
              "  <style>\n",
              "    .colab-df-container {\n",
              "      display:flex;\n",
              "      gap: 12px;\n",
              "    }\n",
              "\n",
              "    .colab-df-convert {\n",
              "      background-color: #E8F0FE;\n",
              "      border: none;\n",
              "      border-radius: 50%;\n",
              "      cursor: pointer;\n",
              "      display: none;\n",
              "      fill: #1967D2;\n",
              "      height: 32px;\n",
              "      padding: 0 0 0 0;\n",
              "      width: 32px;\n",
              "    }\n",
              "\n",
              "    .colab-df-convert:hover {\n",
              "      background-color: #E2EBFA;\n",
              "      box-shadow: 0px 1px 2px rgba(60, 64, 67, 0.3), 0px 1px 3px 1px rgba(60, 64, 67, 0.15);\n",
              "      fill: #174EA6;\n",
              "    }\n",
              "\n",
              "    .colab-df-buttons div {\n",
              "      margin-bottom: 4px;\n",
              "    }\n",
              "\n",
              "    [theme=dark] .colab-df-convert {\n",
              "      background-color: #3B4455;\n",
              "      fill: #D2E3FC;\n",
              "    }\n",
              "\n",
              "    [theme=dark] .colab-df-convert:hover {\n",
              "      background-color: #434B5C;\n",
              "      box-shadow: 0px 1px 3px 1px rgba(0, 0, 0, 0.15);\n",
              "      filter: drop-shadow(0px 1px 2px rgba(0, 0, 0, 0.3));\n",
              "      fill: #FFFFFF;\n",
              "    }\n",
              "  </style>\n",
              "\n",
              "    <script>\n",
              "      const buttonEl =\n",
              "        document.querySelector('#df-a7ff1d1d-ece5-45e6-9db1-370fb8f54e4a button.colab-df-convert');\n",
              "      buttonEl.style.display =\n",
              "        google.colab.kernel.accessAllowed ? 'block' : 'none';\n",
              "\n",
              "      async function convertToInteractive(key) {\n",
              "        const element = document.querySelector('#df-a7ff1d1d-ece5-45e6-9db1-370fb8f54e4a');\n",
              "        const dataTable =\n",
              "          await google.colab.kernel.invokeFunction('convertToInteractive',\n",
              "                                                    [key], {});\n",
              "        if (!dataTable) return;\n",
              "\n",
              "        const docLinkHtml = 'Like what you see? Visit the ' +\n",
              "          '<a target=\"_blank\" href=https://colab.research.google.com/notebooks/data_table.ipynb>data table notebook</a>'\n",
              "          + ' to learn more about interactive tables.';\n",
              "        element.innerHTML = '';\n",
              "        dataTable['output_type'] = 'display_data';\n",
              "        await google.colab.output.renderOutput(dataTable, element);\n",
              "        const docLink = document.createElement('div');\n",
              "        docLink.innerHTML = docLinkHtml;\n",
              "        element.appendChild(docLink);\n",
              "      }\n",
              "    </script>\n",
              "  </div>\n",
              "\n",
              "\n",
              "<div id=\"df-1e348a31-d605-4a2d-b34a-572ec130ecfe\">\n",
              "  <button class=\"colab-df-quickchart\" onclick=\"quickchart('df-1e348a31-d605-4a2d-b34a-572ec130ecfe')\"\n",
              "            title=\"Suggest charts\"\n",
              "            style=\"display:none;\">\n",
              "\n",
              "<svg xmlns=\"http://www.w3.org/2000/svg\" height=\"24px\"viewBox=\"0 0 24 24\"\n",
              "     width=\"24px\">\n",
              "    <g>\n",
              "        <path d=\"M19 3H5c-1.1 0-2 .9-2 2v14c0 1.1.9 2 2 2h14c1.1 0 2-.9 2-2V5c0-1.1-.9-2-2-2zM9 17H7v-7h2v7zm4 0h-2V7h2v10zm4 0h-2v-4h2v4z\"/>\n",
              "    </g>\n",
              "</svg>\n",
              "  </button>\n",
              "\n",
              "<style>\n",
              "  .colab-df-quickchart {\n",
              "      --bg-color: #E8F0FE;\n",
              "      --fill-color: #1967D2;\n",
              "      --hover-bg-color: #E2EBFA;\n",
              "      --hover-fill-color: #174EA6;\n",
              "      --disabled-fill-color: #AAA;\n",
              "      --disabled-bg-color: #DDD;\n",
              "  }\n",
              "\n",
              "  [theme=dark] .colab-df-quickchart {\n",
              "      --bg-color: #3B4455;\n",
              "      --fill-color: #D2E3FC;\n",
              "      --hover-bg-color: #434B5C;\n",
              "      --hover-fill-color: #FFFFFF;\n",
              "      --disabled-bg-color: #3B4455;\n",
              "      --disabled-fill-color: #666;\n",
              "  }\n",
              "\n",
              "  .colab-df-quickchart {\n",
              "    background-color: var(--bg-color);\n",
              "    border: none;\n",
              "    border-radius: 50%;\n",
              "    cursor: pointer;\n",
              "    display: none;\n",
              "    fill: var(--fill-color);\n",
              "    height: 32px;\n",
              "    padding: 0;\n",
              "    width: 32px;\n",
              "  }\n",
              "\n",
              "  .colab-df-quickchart:hover {\n",
              "    background-color: var(--hover-bg-color);\n",
              "    box-shadow: 0 1px 2px rgba(60, 64, 67, 0.3), 0 1px 3px 1px rgba(60, 64, 67, 0.15);\n",
              "    fill: var(--button-hover-fill-color);\n",
              "  }\n",
              "\n",
              "  .colab-df-quickchart-complete:disabled,\n",
              "  .colab-df-quickchart-complete:disabled:hover {\n",
              "    background-color: var(--disabled-bg-color);\n",
              "    fill: var(--disabled-fill-color);\n",
              "    box-shadow: none;\n",
              "  }\n",
              "\n",
              "  .colab-df-spinner {\n",
              "    border: 2px solid var(--fill-color);\n",
              "    border-color: transparent;\n",
              "    border-bottom-color: var(--fill-color);\n",
              "    animation:\n",
              "      spin 1s steps(1) infinite;\n",
              "  }\n",
              "\n",
              "  @keyframes spin {\n",
              "    0% {\n",
              "      border-color: transparent;\n",
              "      border-bottom-color: var(--fill-color);\n",
              "      border-left-color: var(--fill-color);\n",
              "    }\n",
              "    20% {\n",
              "      border-color: transparent;\n",
              "      border-left-color: var(--fill-color);\n",
              "      border-top-color: var(--fill-color);\n",
              "    }\n",
              "    30% {\n",
              "      border-color: transparent;\n",
              "      border-left-color: var(--fill-color);\n",
              "      border-top-color: var(--fill-color);\n",
              "      border-right-color: var(--fill-color);\n",
              "    }\n",
              "    40% {\n",
              "      border-color: transparent;\n",
              "      border-right-color: var(--fill-color);\n",
              "      border-top-color: var(--fill-color);\n",
              "    }\n",
              "    60% {\n",
              "      border-color: transparent;\n",
              "      border-right-color: var(--fill-color);\n",
              "    }\n",
              "    80% {\n",
              "      border-color: transparent;\n",
              "      border-right-color: var(--fill-color);\n",
              "      border-bottom-color: var(--fill-color);\n",
              "    }\n",
              "    90% {\n",
              "      border-color: transparent;\n",
              "      border-bottom-color: var(--fill-color);\n",
              "    }\n",
              "  }\n",
              "</style>\n",
              "\n",
              "  <script>\n",
              "    async function quickchart(key) {\n",
              "      const quickchartButtonEl =\n",
              "        document.querySelector('#' + key + ' button');\n",
              "      quickchartButtonEl.disabled = true;  // To prevent multiple clicks.\n",
              "      quickchartButtonEl.classList.add('colab-df-spinner');\n",
              "      try {\n",
              "        const charts = await google.colab.kernel.invokeFunction(\n",
              "            'suggestCharts', [key], {});\n",
              "      } catch (error) {\n",
              "        console.error('Error during call to suggestCharts:', error);\n",
              "      }\n",
              "      quickchartButtonEl.classList.remove('colab-df-spinner');\n",
              "      quickchartButtonEl.classList.add('colab-df-quickchart-complete');\n",
              "    }\n",
              "    (() => {\n",
              "      let quickchartButtonEl =\n",
              "        document.querySelector('#df-1e348a31-d605-4a2d-b34a-572ec130ecfe button');\n",
              "      quickchartButtonEl.style.display =\n",
              "        google.colab.kernel.accessAllowed ? 'block' : 'none';\n",
              "    })();\n",
              "  </script>\n",
              "</div>\n",
              "\n",
              "  <div id=\"id_283348a1-3c91-4319-8c5c-6153248bf15d\">\n",
              "    <style>\n",
              "      .colab-df-generate {\n",
              "        background-color: #E8F0FE;\n",
              "        border: none;\n",
              "        border-radius: 50%;\n",
              "        cursor: pointer;\n",
              "        display: none;\n",
              "        fill: #1967D2;\n",
              "        height: 32px;\n",
              "        padding: 0 0 0 0;\n",
              "        width: 32px;\n",
              "      }\n",
              "\n",
              "      .colab-df-generate:hover {\n",
              "        background-color: #E2EBFA;\n",
              "        box-shadow: 0px 1px 2px rgba(60, 64, 67, 0.3), 0px 1px 3px 1px rgba(60, 64, 67, 0.15);\n",
              "        fill: #174EA6;\n",
              "      }\n",
              "\n",
              "      [theme=dark] .colab-df-generate {\n",
              "        background-color: #3B4455;\n",
              "        fill: #D2E3FC;\n",
              "      }\n",
              "\n",
              "      [theme=dark] .colab-df-generate:hover {\n",
              "        background-color: #434B5C;\n",
              "        box-shadow: 0px 1px 3px 1px rgba(0, 0, 0, 0.15);\n",
              "        filter: drop-shadow(0px 1px 2px rgba(0, 0, 0, 0.3));\n",
              "        fill: #FFFFFF;\n",
              "      }\n",
              "    </style>\n",
              "    <button class=\"colab-df-generate\" onclick=\"generateWithVariable('df')\"\n",
              "            title=\"Generate code using this dataframe.\"\n",
              "            style=\"display:none;\">\n",
              "\n",
              "  <svg xmlns=\"http://www.w3.org/2000/svg\" height=\"24px\"viewBox=\"0 0 24 24\"\n",
              "       width=\"24px\">\n",
              "    <path d=\"M7,19H8.4L18.45,9,17,7.55,7,17.6ZM5,21V16.75L18.45,3.32a2,2,0,0,1,2.83,0l1.4,1.43a1.91,1.91,0,0,1,.58,1.4,1.91,1.91,0,0,1-.58,1.4L9.25,21ZM18.45,9,17,7.55Zm-12,3A5.31,5.31,0,0,0,4.9,8.1,5.31,5.31,0,0,0,1,6.5,5.31,5.31,0,0,0,4.9,4.9,5.31,5.31,0,0,0,6.5,1,5.31,5.31,0,0,0,8.1,4.9,5.31,5.31,0,0,0,12,6.5,5.46,5.46,0,0,0,6.5,12Z\"/>\n",
              "  </svg>\n",
              "    </button>\n",
              "    <script>\n",
              "      (() => {\n",
              "      const buttonEl =\n",
              "        document.querySelector('#id_283348a1-3c91-4319-8c5c-6153248bf15d button.colab-df-generate');\n",
              "      buttonEl.style.display =\n",
              "        google.colab.kernel.accessAllowed ? 'block' : 'none';\n",
              "\n",
              "      buttonEl.onclick = () => {\n",
              "        google.colab.notebook.generateWithVariable('df');\n",
              "      }\n",
              "      })();\n",
              "    </script>\n",
              "  </div>\n",
              "\n",
              "    </div>\n",
              "  </div>\n"
            ],
            "application/vnd.google.colaboratory.intrinsic+json": {
              "type": "dataframe",
              "variable_name": "df",
              "summary": "{\n  \"name\": \"df\",\n  \"rows\": 597,\n  \"fields\": [\n    {\n      \"column\": \"reviewId\",\n      \"properties\": {\n        \"dtype\": \"string\",\n        \"num_unique_values\": 597,\n        \"samples\": [\n          \"68e714dc-b6b2-46a7-85ab-1721fea8dc87\",\n          \"afe7416e-dda0-45f2-9d85-8d7b138e399a\",\n          \"43b336eb-d474-4529-abb5-b99390d36e2e\"\n        ],\n        \"semantic_type\": \"\",\n        \"description\": \"\"\n      }\n    },\n    {\n      \"column\": \"userName\",\n      \"properties\": {\n        \"dtype\": \"string\",\n        \"num_unique_values\": 589,\n        \"samples\": [\n          \"lurker117\",\n          \"Daniel D'Amario\",\n          \"Ralph nero\"\n        ],\n        \"semantic_type\": \"\",\n        \"description\": \"\"\n      }\n    },\n    {\n      \"column\": \"userImage\",\n      \"properties\": {\n        \"dtype\": \"string\",\n        \"num_unique_values\": 590,\n        \"samples\": [\n          \"https://play-lh.googleusercontent.com/a/ACg8ocJPtDsEwvYdS2U3al7RQ_ZPWXpBTlTeFOw5pgNLq_X0U3fRXg=mo\",\n          \"https://play-lh.googleusercontent.com/a-/ALV-UjU-rX-31XSmu23jMODjd7vM7U_dozPRB4nllLKH1zoaPCMekreZfw\",\n          \"https://play-lh.googleusercontent.com/a-/ALV-UjWQelYhTYJyjcFEV4sDBgWjhmEbwfUWMvF80-HAA8dK37qi61gR\"\n        ],\n        \"semantic_type\": \"\",\n        \"description\": \"\"\n      }\n    },\n    {\n      \"column\": \"content\",\n      \"properties\": {\n        \"dtype\": \"string\",\n        \"num_unique_values\": 570,\n        \"samples\": [\n          \"It does what I want\",\n          \"eTransfer are not working + cannot deposity cheque, My experience with RBC was always good till this last horrible update, please roll back ASAP or I will leave\",\n          \"Few days before i see the exact amount that i used and the payment that i did on mobile banking using my credit card, in other bank it comes out immediately. Hope it will change.\"\n        ],\n        \"semantic_type\": \"\",\n        \"description\": \"\"\n      }\n    },\n    {\n      \"column\": \"score\",\n      \"properties\": {\n        \"dtype\": \"number\",\n        \"std\": 1,\n        \"min\": 1,\n        \"max\": 5,\n        \"num_unique_values\": 5,\n        \"samples\": [\n          3,\n          4,\n          1\n        ],\n        \"semantic_type\": \"\",\n        \"description\": \"\"\n      }\n    },\n    {\n      \"column\": \"thumbsUpCount\",\n      \"properties\": {\n        \"dtype\": \"number\",\n        \"std\": 20,\n        \"min\": 0,\n        \"max\": 280,\n        \"num_unique_values\": 31,\n        \"samples\": [\n          276,\n          40,\n          12\n        ],\n        \"semantic_type\": \"\",\n        \"description\": \"\"\n      }\n    },\n    {\n      \"column\": \"reviewCreatedVersion\",\n      \"properties\": {\n        \"dtype\": \"category\",\n        \"num_unique_values\": 16,\n        \"samples\": [\n          \"4.40\",\n          \"4.41\",\n          \"4.32\"\n        ],\n        \"semantic_type\": \"\",\n        \"description\": \"\"\n      }\n    },\n    {\n      \"column\": \"at\",\n      \"properties\": {\n        \"dtype\": \"date\",\n        \"min\": \"2023-11-16 19:57:01\",\n        \"max\": \"2024-06-02 21:15:23\",\n        \"num_unique_values\": 597,\n        \"samples\": [\n          \"2024-04-25 11:33:54\",\n          \"2023-12-29 16:58:54\",\n          \"2024-04-15 06:55:43\"\n        ],\n        \"semantic_type\": \"\",\n        \"description\": \"\"\n      }\n    },\n    {\n      \"column\": \"replyContent\",\n      \"properties\": {\n        \"dtype\": \"category\",\n        \"num_unique_values\": 224,\n        \"samples\": [\n          \"Hi Olga, we'd love to help address this concern with you, please give us a call at 1-800-769-2555. - Miranda\",\n          \"Hi there, I'm sorry for your experience, I've passed it along to our management team. - Chris\\n\",\n          \"Hi, thanks for the marvelous review! - Chris\"\n        ],\n        \"semantic_type\": \"\",\n        \"description\": \"\"\n      }\n    },\n    {\n      \"column\": \"repliedAt\",\n      \"properties\": {\n        \"dtype\": \"date\",\n        \"min\": \"2016-03-23 19:19:42\",\n        \"max\": \"2024-04-27 22:54:16\",\n        \"num_unique_values\": 365,\n        \"samples\": [\n          \"2024-01-19 22:25:01\",\n          \"2024-03-20 18:34:29\",\n          \"2024-04-27 21:55:14\"\n        ],\n        \"semantic_type\": \"\",\n        \"description\": \"\"\n      }\n    },\n    {\n      \"column\": \"appVersion\",\n      \"properties\": {\n        \"dtype\": \"category\",\n        \"num_unique_values\": 16,\n        \"samples\": [\n          \"4.40\",\n          \"4.41\",\n          \"4.32\"\n        ],\n        \"semantic_type\": \"\",\n        \"description\": \"\"\n      }\n    },\n    {\n      \"column\": \"sentiment_score\",\n      \"properties\": {\n        \"dtype\": \"number\",\n        \"std\": 1.117831511909463,\n        \"min\": -3.1,\n        \"max\": 3.2,\n        \"num_unique_values\": 29,\n        \"samples\": [\n          2.2,\n          2.7,\n          -2.1\n        ],\n        \"semantic_type\": \"\",\n        \"description\": \"\"\n      }\n    },\n    {\n      \"column\": \"sentiment_flag\",\n      \"properties\": {\n        \"dtype\": \"category\",\n        \"num_unique_values\": 3,\n        \"samples\": [\n          \"neu\",\n          \"neg\",\n          \"pos\"\n        ],\n        \"semantic_type\": \"\",\n        \"description\": \"\"\n      }\n    },\n    {\n      \"column\": \"year\",\n      \"properties\": {\n        \"dtype\": \"number\",\n        \"std\": 0,\n        \"min\": 2023,\n        \"max\": 2024,\n        \"num_unique_values\": 2,\n        \"samples\": [\n          2023,\n          2024\n        ],\n        \"semantic_type\": \"\",\n        \"description\": \"\"\n      }\n    }\n  ]\n}"
            }
          },
          "metadata": {},
          "execution_count": 23
        }
      ],
      "source": [
        "import pandas as pd\n",
        "df = pd.DataFrame.from_records(rbc_reviews)\n",
        "df"
      ]
    },
    {
      "cell_type": "markdown",
      "metadata": {
        "id": "S99L9_h0XB36"
      },
      "source": [
        "Percentage of reviews that are positive, negative, and neutral."
      ]
    },
    {
      "cell_type": "code",
      "source": [
        "df['sentiment_flag'].value_counts() * 100 /df['sentiment_flag'].value_counts().sum()"
      ],
      "metadata": {
        "colab": {
          "base_uri": "https://localhost:8080/"
        },
        "id": "nVwzV5EdmBEX",
        "outputId": "87be2c16-4e6b-4ef3-f7bd-d31b8f76482b"
      },
      "execution_count": null,
      "outputs": [
        {
          "output_type": "execute_result",
          "data": {
            "text/plain": [
              "sentiment_flag\n",
              "neu    75.544389\n",
              "pos    17.420436\n",
              "neg     7.035176\n",
              "Name: count, dtype: float64"
            ]
          },
          "metadata": {},
          "execution_count": 32
        }
      ]
    },
    {
      "cell_type": "markdown",
      "metadata": {
        "id": "MQA-fK2ubPCf"
      },
      "source": [
        "Percentage of reviews that are positive, negative, and neutral for each year"
      ]
    },
    {
      "cell_type": "code",
      "source": [
        "yr = df['year'].unique()\n",
        "yr\n",
        "# unique year are only 2023 and 2024"
      ],
      "metadata": {
        "colab": {
          "base_uri": "https://localhost:8080/"
        },
        "id": "TUBBEfzbnC9C",
        "outputId": "28bd5e16-690e-434b-9772-28b67ddbe461"
      },
      "execution_count": null,
      "outputs": [
        {
          "output_type": "execute_result",
          "data": {
            "text/plain": [
              "array([2024, 2023])"
            ]
          },
          "metadata": {},
          "execution_count": 29
        }
      ]
    },
    {
      "cell_type": "code",
      "execution_count": null,
      "metadata": {
        "id": "cJydNxOHe_Z9",
        "colab": {
          "base_uri": "https://localhost:8080/",
          "height": 175
        },
        "outputId": "550a9102-0654-4fb4-e76f-ff1eef8fe596"
      },
      "outputs": [
        {
          "output_type": "execute_result",
          "data": {
            "text/plain": [
              "year                 2023       2024\n",
              "sentiment_flag                      \n",
              "neg              3.225806   8.033827\n",
              "neu             70.161290  76.955603\n",
              "pos             26.612903  15.010571"
            ],
            "text/html": [
              "\n",
              "  <div id=\"df-57f3666a-085e-4296-91c9-c43e7a0ab4e1\" class=\"colab-df-container\">\n",
              "    <div>\n",
              "<style scoped>\n",
              "    .dataframe tbody tr th:only-of-type {\n",
              "        vertical-align: middle;\n",
              "    }\n",
              "\n",
              "    .dataframe tbody tr th {\n",
              "        vertical-align: top;\n",
              "    }\n",
              "\n",
              "    .dataframe thead th {\n",
              "        text-align: right;\n",
              "    }\n",
              "</style>\n",
              "<table border=\"1\" class=\"dataframe\">\n",
              "  <thead>\n",
              "    <tr style=\"text-align: right;\">\n",
              "      <th>year</th>\n",
              "      <th>2023</th>\n",
              "      <th>2024</th>\n",
              "    </tr>\n",
              "    <tr>\n",
              "      <th>sentiment_flag</th>\n",
              "      <th></th>\n",
              "      <th></th>\n",
              "    </tr>\n",
              "  </thead>\n",
              "  <tbody>\n",
              "    <tr>\n",
              "      <th>neg</th>\n",
              "      <td>3.225806</td>\n",
              "      <td>8.033827</td>\n",
              "    </tr>\n",
              "    <tr>\n",
              "      <th>neu</th>\n",
              "      <td>70.161290</td>\n",
              "      <td>76.955603</td>\n",
              "    </tr>\n",
              "    <tr>\n",
              "      <th>pos</th>\n",
              "      <td>26.612903</td>\n",
              "      <td>15.010571</td>\n",
              "    </tr>\n",
              "  </tbody>\n",
              "</table>\n",
              "</div>\n",
              "    <div class=\"colab-df-buttons\">\n",
              "\n",
              "  <div class=\"colab-df-container\">\n",
              "    <button class=\"colab-df-convert\" onclick=\"convertToInteractive('df-57f3666a-085e-4296-91c9-c43e7a0ab4e1')\"\n",
              "            title=\"Convert this dataframe to an interactive table.\"\n",
              "            style=\"display:none;\">\n",
              "\n",
              "  <svg xmlns=\"http://www.w3.org/2000/svg\" height=\"24px\" viewBox=\"0 -960 960 960\">\n",
              "    <path d=\"M120-120v-720h720v720H120Zm60-500h600v-160H180v160Zm220 220h160v-160H400v160Zm0 220h160v-160H400v160ZM180-400h160v-160H180v160Zm440 0h160v-160H620v160ZM180-180h160v-160H180v160Zm440 0h160v-160H620v160Z\"/>\n",
              "  </svg>\n",
              "    </button>\n",
              "\n",
              "  <style>\n",
              "    .colab-df-container {\n",
              "      display:flex;\n",
              "      gap: 12px;\n",
              "    }\n",
              "\n",
              "    .colab-df-convert {\n",
              "      background-color: #E8F0FE;\n",
              "      border: none;\n",
              "      border-radius: 50%;\n",
              "      cursor: pointer;\n",
              "      display: none;\n",
              "      fill: #1967D2;\n",
              "      height: 32px;\n",
              "      padding: 0 0 0 0;\n",
              "      width: 32px;\n",
              "    }\n",
              "\n",
              "    .colab-df-convert:hover {\n",
              "      background-color: #E2EBFA;\n",
              "      box-shadow: 0px 1px 2px rgba(60, 64, 67, 0.3), 0px 1px 3px 1px rgba(60, 64, 67, 0.15);\n",
              "      fill: #174EA6;\n",
              "    }\n",
              "\n",
              "    .colab-df-buttons div {\n",
              "      margin-bottom: 4px;\n",
              "    }\n",
              "\n",
              "    [theme=dark] .colab-df-convert {\n",
              "      background-color: #3B4455;\n",
              "      fill: #D2E3FC;\n",
              "    }\n",
              "\n",
              "    [theme=dark] .colab-df-convert:hover {\n",
              "      background-color: #434B5C;\n",
              "      box-shadow: 0px 1px 3px 1px rgba(0, 0, 0, 0.15);\n",
              "      filter: drop-shadow(0px 1px 2px rgba(0, 0, 0, 0.3));\n",
              "      fill: #FFFFFF;\n",
              "    }\n",
              "  </style>\n",
              "\n",
              "    <script>\n",
              "      const buttonEl =\n",
              "        document.querySelector('#df-57f3666a-085e-4296-91c9-c43e7a0ab4e1 button.colab-df-convert');\n",
              "      buttonEl.style.display =\n",
              "        google.colab.kernel.accessAllowed ? 'block' : 'none';\n",
              "\n",
              "      async function convertToInteractive(key) {\n",
              "        const element = document.querySelector('#df-57f3666a-085e-4296-91c9-c43e7a0ab4e1');\n",
              "        const dataTable =\n",
              "          await google.colab.kernel.invokeFunction('convertToInteractive',\n",
              "                                                    [key], {});\n",
              "        if (!dataTable) return;\n",
              "\n",
              "        const docLinkHtml = 'Like what you see? Visit the ' +\n",
              "          '<a target=\"_blank\" href=https://colab.research.google.com/notebooks/data_table.ipynb>data table notebook</a>'\n",
              "          + ' to learn more about interactive tables.';\n",
              "        element.innerHTML = '';\n",
              "        dataTable['output_type'] = 'display_data';\n",
              "        await google.colab.output.renderOutput(dataTable, element);\n",
              "        const docLink = document.createElement('div');\n",
              "        docLink.innerHTML = docLinkHtml;\n",
              "        element.appendChild(docLink);\n",
              "      }\n",
              "    </script>\n",
              "  </div>\n",
              "\n",
              "\n",
              "<div id=\"df-6428eb31-fab4-4101-affd-4686ef8fe442\">\n",
              "  <button class=\"colab-df-quickchart\" onclick=\"quickchart('df-6428eb31-fab4-4101-affd-4686ef8fe442')\"\n",
              "            title=\"Suggest charts\"\n",
              "            style=\"display:none;\">\n",
              "\n",
              "<svg xmlns=\"http://www.w3.org/2000/svg\" height=\"24px\"viewBox=\"0 0 24 24\"\n",
              "     width=\"24px\">\n",
              "    <g>\n",
              "        <path d=\"M19 3H5c-1.1 0-2 .9-2 2v14c0 1.1.9 2 2 2h14c1.1 0 2-.9 2-2V5c0-1.1-.9-2-2-2zM9 17H7v-7h2v7zm4 0h-2V7h2v10zm4 0h-2v-4h2v4z\"/>\n",
              "    </g>\n",
              "</svg>\n",
              "  </button>\n",
              "\n",
              "<style>\n",
              "  .colab-df-quickchart {\n",
              "      --bg-color: #E8F0FE;\n",
              "      --fill-color: #1967D2;\n",
              "      --hover-bg-color: #E2EBFA;\n",
              "      --hover-fill-color: #174EA6;\n",
              "      --disabled-fill-color: #AAA;\n",
              "      --disabled-bg-color: #DDD;\n",
              "  }\n",
              "\n",
              "  [theme=dark] .colab-df-quickchart {\n",
              "      --bg-color: #3B4455;\n",
              "      --fill-color: #D2E3FC;\n",
              "      --hover-bg-color: #434B5C;\n",
              "      --hover-fill-color: #FFFFFF;\n",
              "      --disabled-bg-color: #3B4455;\n",
              "      --disabled-fill-color: #666;\n",
              "  }\n",
              "\n",
              "  .colab-df-quickchart {\n",
              "    background-color: var(--bg-color);\n",
              "    border: none;\n",
              "    border-radius: 50%;\n",
              "    cursor: pointer;\n",
              "    display: none;\n",
              "    fill: var(--fill-color);\n",
              "    height: 32px;\n",
              "    padding: 0;\n",
              "    width: 32px;\n",
              "  }\n",
              "\n",
              "  .colab-df-quickchart:hover {\n",
              "    background-color: var(--hover-bg-color);\n",
              "    box-shadow: 0 1px 2px rgba(60, 64, 67, 0.3), 0 1px 3px 1px rgba(60, 64, 67, 0.15);\n",
              "    fill: var(--button-hover-fill-color);\n",
              "  }\n",
              "\n",
              "  .colab-df-quickchart-complete:disabled,\n",
              "  .colab-df-quickchart-complete:disabled:hover {\n",
              "    background-color: var(--disabled-bg-color);\n",
              "    fill: var(--disabled-fill-color);\n",
              "    box-shadow: none;\n",
              "  }\n",
              "\n",
              "  .colab-df-spinner {\n",
              "    border: 2px solid var(--fill-color);\n",
              "    border-color: transparent;\n",
              "    border-bottom-color: var(--fill-color);\n",
              "    animation:\n",
              "      spin 1s steps(1) infinite;\n",
              "  }\n",
              "\n",
              "  @keyframes spin {\n",
              "    0% {\n",
              "      border-color: transparent;\n",
              "      border-bottom-color: var(--fill-color);\n",
              "      border-left-color: var(--fill-color);\n",
              "    }\n",
              "    20% {\n",
              "      border-color: transparent;\n",
              "      border-left-color: var(--fill-color);\n",
              "      border-top-color: var(--fill-color);\n",
              "    }\n",
              "    30% {\n",
              "      border-color: transparent;\n",
              "      border-left-color: var(--fill-color);\n",
              "      border-top-color: var(--fill-color);\n",
              "      border-right-color: var(--fill-color);\n",
              "    }\n",
              "    40% {\n",
              "      border-color: transparent;\n",
              "      border-right-color: var(--fill-color);\n",
              "      border-top-color: var(--fill-color);\n",
              "    }\n",
              "    60% {\n",
              "      border-color: transparent;\n",
              "      border-right-color: var(--fill-color);\n",
              "    }\n",
              "    80% {\n",
              "      border-color: transparent;\n",
              "      border-right-color: var(--fill-color);\n",
              "      border-bottom-color: var(--fill-color);\n",
              "    }\n",
              "    90% {\n",
              "      border-color: transparent;\n",
              "      border-bottom-color: var(--fill-color);\n",
              "    }\n",
              "  }\n",
              "</style>\n",
              "\n",
              "  <script>\n",
              "    async function quickchart(key) {\n",
              "      const quickchartButtonEl =\n",
              "        document.querySelector('#' + key + ' button');\n",
              "      quickchartButtonEl.disabled = true;  // To prevent multiple clicks.\n",
              "      quickchartButtonEl.classList.add('colab-df-spinner');\n",
              "      try {\n",
              "        const charts = await google.colab.kernel.invokeFunction(\n",
              "            'suggestCharts', [key], {});\n",
              "      } catch (error) {\n",
              "        console.error('Error during call to suggestCharts:', error);\n",
              "      }\n",
              "      quickchartButtonEl.classList.remove('colab-df-spinner');\n",
              "      quickchartButtonEl.classList.add('colab-df-quickchart-complete');\n",
              "    }\n",
              "    (() => {\n",
              "      let quickchartButtonEl =\n",
              "        document.querySelector('#df-6428eb31-fab4-4101-affd-4686ef8fe442 button');\n",
              "      quickchartButtonEl.style.display =\n",
              "        google.colab.kernel.accessAllowed ? 'block' : 'none';\n",
              "    })();\n",
              "  </script>\n",
              "</div>\n",
              "\n",
              "    </div>\n",
              "  </div>\n"
            ],
            "application/vnd.google.colaboratory.intrinsic+json": {
              "type": "dataframe",
              "summary": "{\n  \"name\": \"    )\",\n  \"rows\": 3,\n  \"fields\": [\n    {\n      \"column\": \"sentiment_flag\",\n      \"properties\": {\n        \"dtype\": \"string\",\n        \"num_unique_values\": 3,\n        \"samples\": [\n          \"neg\",\n          \"neu\",\n          \"pos\"\n        ],\n        \"semantic_type\": \"\",\n        \"description\": \"\"\n      }\n    },\n    {\n      \"column\": 2023,\n      \"properties\": {\n        \"dtype\": \"number\",\n        \"std\": 33.970029229936806,\n        \"min\": 3.225806451612903,\n        \"max\": 70.16129032258064,\n        \"num_unique_values\": 3,\n        \"samples\": [\n          3.225806451612903,\n          70.16129032258064,\n          26.612903225806452\n        ],\n        \"semantic_type\": \"\",\n        \"description\": \"\"\n      }\n    },\n    {\n      \"column\": 2024,\n      \"properties\": {\n        \"dtype\": \"number\",\n        \"std\": 37.938707380683375,\n        \"min\": 8.033826638477802,\n        \"max\": 76.95560253699789,\n        \"num_unique_values\": 3,\n        \"samples\": [\n          8.033826638477802,\n          76.95560253699789,\n          15.010570824524313\n        ],\n        \"semantic_type\": \"\",\n        \"description\": \"\"\n      }\n    }\n  ]\n}"
            }
          },
          "metadata": {},
          "execution_count": 33
        }
      ],
      "source": [
        "pd.pivot_table(\n",
        "    df,\n",
        "    index=df['sentiment_flag'],\n",
        "    columns=df['year'],\n",
        "    aggfunc='size'\n",
        "    ).transform(lambda x: x*100/sum(x))"
      ]
    }
  ],
  "metadata": {
    "colab": {
      "provenance": []
    },
    "kernelspec": {
      "display_name": "Python 3 (ipykernel)",
      "language": "python",
      "name": "python3"
    },
    "language_info": {
      "codemirror_mode": {
        "name": "ipython",
        "version": 3
      },
      "file_extension": ".py",
      "mimetype": "text/x-python",
      "name": "python",
      "nbconvert_exporter": "python",
      "pygments_lexer": "ipython3",
      "version": "3.9.12"
    }
  },
  "nbformat": 4,
  "nbformat_minor": 0
}